{
 "cells": [
  {
   "cell_type": "code",
   "execution_count": 3,
   "id": "26895b6e",
   "metadata": {},
   "outputs": [],
   "source": [
    "# Install pandas libreries"
   ]
  },
  {
   "cell_type": "code",
   "execution_count": 4,
   "id": "45e1f250",
   "metadata": {},
   "outputs": [
    {
     "name": "stdout",
     "output_type": "stream",
     "text": [
      "Requirement already satisfied: pandas in c:\\users\\mirela\\anaconda3\\lib\\site-packages (1.2.4)\n",
      "Requirement already satisfied: pytz>=2017.3 in c:\\users\\mirela\\anaconda3\\lib\\site-packages (from pandas) (2021.1)\n",
      "Requirement already satisfied: python-dateutil>=2.7.3 in c:\\users\\mirela\\anaconda3\\lib\\site-packages (from pandas) (2.8.1)\n",
      "Requirement already satisfied: numpy>=1.16.5 in c:\\users\\mirela\\anaconda3\\lib\\site-packages (from pandas) (1.19.5)\n",
      "Requirement already satisfied: six>=1.5 in c:\\users\\mirela\\anaconda3\\lib\\site-packages (from python-dateutil>=2.7.3->pandas) (1.15.0)\n"
     ]
    }
   ],
   "source": [
    "!pip install pandas"
   ]
  },
  {
   "cell_type": "code",
   "execution_count": 5,
   "id": "2aa5a46e",
   "metadata": {},
   "outputs": [],
   "source": [
    "# Import libraries"
   ]
  },
  {
   "cell_type": "code",
   "execution_count": 6,
   "id": "016667af",
   "metadata": {},
   "outputs": [],
   "source": [
    "import pandas as pd"
   ]
  },
  {
   "cell_type": "code",
   "execution_count": 7,
   "id": "00ab631a",
   "metadata": {},
   "outputs": [],
   "source": [
    "# Read file data \" Datafiniti_Womens_Shoes.csv\" "
   ]
  },
  {
   "cell_type": "code",
   "execution_count": 8,
   "id": "b1022ca9",
   "metadata": {},
   "outputs": [
    {
     "data": {
      "text/html": [
       "<div>\n",
       "<style scoped>\n",
       "    .dataframe tbody tr th:only-of-type {\n",
       "        vertical-align: middle;\n",
       "    }\n",
       "\n",
       "    .dataframe tbody tr th {\n",
       "        vertical-align: top;\n",
       "    }\n",
       "\n",
       "    .dataframe thead th {\n",
       "        text-align: right;\n",
       "    }\n",
       "</style>\n",
       "<table border=\"1\" class=\"dataframe\">\n",
       "  <thead>\n",
       "    <tr style=\"text-align: right;\">\n",
       "      <th></th>\n",
       "      <th>id</th>\n",
       "      <th>dateAdded</th>\n",
       "      <th>dateUpdated</th>\n",
       "      <th>asins</th>\n",
       "      <th>brand</th>\n",
       "      <th>categories</th>\n",
       "      <th>primaryCategories</th>\n",
       "      <th>colors</th>\n",
       "      <th>dimension</th>\n",
       "      <th>ean</th>\n",
       "      <th>...</th>\n",
       "      <th>prices.merchant</th>\n",
       "      <th>prices.offer</th>\n",
       "      <th>prices.returnPolicy</th>\n",
       "      <th>prices.shipping</th>\n",
       "      <th>prices.size</th>\n",
       "      <th>prices.sourceURLs</th>\n",
       "      <th>sizes</th>\n",
       "      <th>sourceURLs</th>\n",
       "      <th>upc</th>\n",
       "      <th>weight</th>\n",
       "    </tr>\n",
       "  </thead>\n",
       "  <tbody>\n",
       "    <tr>\n",
       "      <th>0</th>\n",
       "      <td>AVpfEf_hLJeJML431ueH</td>\n",
       "      <td>2015-05-04T12:13:08Z</td>\n",
       "      <td>2018-01-29T04:38:43Z</td>\n",
       "      <td>NaN</td>\n",
       "      <td>Naturalizer</td>\n",
       "      <td>Clothing,Shoes,Women's Shoes,All Women's Shoes...</td>\n",
       "      <td>Shoes</td>\n",
       "      <td>Silver,Cream Watercolor Floral</td>\n",
       "      <td>NaN</td>\n",
       "      <td>NaN</td>\n",
       "      <td>...</td>\n",
       "      <td>Overstock.com</td>\n",
       "      <td>NaN</td>\n",
       "      <td>NaN</td>\n",
       "      <td>NaN</td>\n",
       "      <td>S</td>\n",
       "      <td>https://www.overstock.com/Clothing-Shoes/Women...</td>\n",
       "      <td>6W,9W,7.5W,12W,8.5M,9N,9M,9.5M,10.5M,10W,8.5W,...</td>\n",
       "      <td>https://www.walmart.com/ip/Naturalizer-Danya-W...</td>\n",
       "      <td>017136472311</td>\n",
       "      <td>NaN</td>\n",
       "    </tr>\n",
       "    <tr>\n",
       "      <th>1</th>\n",
       "      <td>AVpi74XfLJeJML43qZAc</td>\n",
       "      <td>2017-01-27T01:23:39Z</td>\n",
       "      <td>2018-01-03T05:21:54Z</td>\n",
       "      <td>NaN</td>\n",
       "      <td>MUK LUKS</td>\n",
       "      <td>Clothing,Shoes,Women's Shoes,Women's Casual Sh...</td>\n",
       "      <td>Shoes</td>\n",
       "      <td>Grey</td>\n",
       "      <td>NaN</td>\n",
       "      <td>3.397705e+10</td>\n",
       "      <td>...</td>\n",
       "      <td>Walmart.com</td>\n",
       "      <td>NaN</td>\n",
       "      <td>NaN</td>\n",
       "      <td>Standard</td>\n",
       "      <td>6</td>\n",
       "      <td>https://www.walmart.com/ip/MUK-LUKS-Womens-Jan...</td>\n",
       "      <td>10,7,6,9,8</td>\n",
       "      <td>https://www.walmart.com/ip/MUK-LUKS-Womens-Jan...</td>\n",
       "      <td>033977045743</td>\n",
       "      <td>NaN</td>\n",
       "    </tr>\n",
       "    <tr>\n",
       "      <th>2</th>\n",
       "      <td>AVpi74XfLJeJML43qZAc</td>\n",
       "      <td>2017-01-27T01:23:39Z</td>\n",
       "      <td>2018-01-03T05:21:54Z</td>\n",
       "      <td>NaN</td>\n",
       "      <td>MUK LUKS</td>\n",
       "      <td>Clothing,Shoes,Women's Shoes,Women's Casual Sh...</td>\n",
       "      <td>Shoes</td>\n",
       "      <td>Grey</td>\n",
       "      <td>NaN</td>\n",
       "      <td>3.397705e+10</td>\n",
       "      <td>...</td>\n",
       "      <td>Slippers Dot Com</td>\n",
       "      <td>NaN</td>\n",
       "      <td>NaN</td>\n",
       "      <td>Value</td>\n",
       "      <td>6</td>\n",
       "      <td>https://www.walmart.com/ip/MUK-LUKS-Womens-Jan...</td>\n",
       "      <td>10,7,6,9,8</td>\n",
       "      <td>https://www.walmart.com/ip/MUK-LUKS-Womens-Jan...</td>\n",
       "      <td>033977045743</td>\n",
       "      <td>NaN</td>\n",
       "    </tr>\n",
       "    <tr>\n",
       "      <th>3</th>\n",
       "      <td>AVpjXyCc1cnluZ0-V-Gj</td>\n",
       "      <td>2017-01-27T01:25:56Z</td>\n",
       "      <td>2018-01-04T11:52:35Z</td>\n",
       "      <td>NaN</td>\n",
       "      <td>MUK LUKS</td>\n",
       "      <td>Clothing,Shoes,Women's Shoes,All Women's Shoes...</td>\n",
       "      <td>Shoes,Shoes</td>\n",
       "      <td>Black</td>\n",
       "      <td>6.0 in x 6.0 in x 1.0 in</td>\n",
       "      <td>3.397705e+10</td>\n",
       "      <td>...</td>\n",
       "      <td>Slippers Dot Com</td>\n",
       "      <td>NaN</td>\n",
       "      <td>NaN</td>\n",
       "      <td>Value</td>\n",
       "      <td>6</td>\n",
       "      <td>https://www.walmart.com/ip/MUK-LUKS-Womens-Daw...</td>\n",
       "      <td>10,7,6,9,8</td>\n",
       "      <td>https://www.walmart.com/ip/MUK-LUKS-Womens-Daw...</td>\n",
       "      <td>033977045903</td>\n",
       "      <td>NaN</td>\n",
       "    </tr>\n",
       "    <tr>\n",
       "      <th>4</th>\n",
       "      <td>AVphGKLPilAPnD_x1Nrm</td>\n",
       "      <td>2017-01-27T01:25:56Z</td>\n",
       "      <td>2018-01-18T03:55:18Z</td>\n",
       "      <td>NaN</td>\n",
       "      <td>MUK LUKS</td>\n",
       "      <td>Clothing,Shoes,Women's Shoes,All Women's Shoes...</td>\n",
       "      <td>Shoes</td>\n",
       "      <td>Grey</td>\n",
       "      <td>6.0 in x 6.0 in x 1.0 in</td>\n",
       "      <td>3.397705e+10</td>\n",
       "      <td>...</td>\n",
       "      <td>Walmart.com</td>\n",
       "      <td>NaN</td>\n",
       "      <td>NaN</td>\n",
       "      <td>Expedited</td>\n",
       "      <td>6</td>\n",
       "      <td>https://www.walmart.com/ip/MUK-LUKS-Womens-Daw...</td>\n",
       "      <td>10,7,6,9,8</td>\n",
       "      <td>https://www.walmart.com/ip/MUK-LUKS-Womens-Daw...</td>\n",
       "      <td>033977045958</td>\n",
       "      <td>NaN</td>\n",
       "    </tr>\n",
       "    <tr>\n",
       "      <th>...</th>\n",
       "      <td>...</td>\n",
       "      <td>...</td>\n",
       "      <td>...</td>\n",
       "      <td>...</td>\n",
       "      <td>...</td>\n",
       "      <td>...</td>\n",
       "      <td>...</td>\n",
       "      <td>...</td>\n",
       "      <td>...</td>\n",
       "      <td>...</td>\n",
       "      <td>...</td>\n",
       "      <td>...</td>\n",
       "      <td>...</td>\n",
       "      <td>...</td>\n",
       "      <td>...</td>\n",
       "      <td>...</td>\n",
       "      <td>...</td>\n",
       "      <td>...</td>\n",
       "      <td>...</td>\n",
       "      <td>...</td>\n",
       "      <td>...</td>\n",
       "    </tr>\n",
       "    <tr>\n",
       "      <th>9995</th>\n",
       "      <td>AWKcCm-RHh53nbDRIh1_</td>\n",
       "      <td>2018-04-06T17:33:30Z</td>\n",
       "      <td>2018-04-06T21:02:04Z</td>\n",
       "      <td>NaN</td>\n",
       "      <td>Asics</td>\n",
       "      <td>Women's Footwear,Women's Running Shoes,Women's...</td>\n",
       "      <td>Shoes</td>\n",
       "      <td>Silver/Pistachio/Pink</td>\n",
       "      <td>NaN</td>\n",
       "      <td>NaN</td>\n",
       "      <td>...</td>\n",
       "      <td>Backcountry.com</td>\n",
       "      <td>25%</td>\n",
       "      <td>NaN</td>\n",
       "      <td>Free 2-Day shipping on orders over $50</td>\n",
       "      <td>7.5</td>\n",
       "      <td>https://www.backcountry.com/asics-gel-foundati...</td>\n",
       "      <td>6.0,6.5,7.0,7.5,8.0,9.0</td>\n",
       "      <td>https://www.backcountry.com/asics-gel-foundati...</td>\n",
       "      <td>NaN</td>\n",
       "      <td>1 lb 4.5 oz</td>\n",
       "    </tr>\n",
       "    <tr>\n",
       "      <th>9996</th>\n",
       "      <td>AWKcEq-dHh53nbDRIiES</td>\n",
       "      <td>2018-04-06T17:33:29Z</td>\n",
       "      <td>2018-04-06T21:02:04Z</td>\n",
       "      <td>NaN</td>\n",
       "      <td>Asics</td>\n",
       "      <td>Women's Footwear,Women's Running Shoes,Women's...</td>\n",
       "      <td>Shoes</td>\n",
       "      <td>Indigo Blue/Silver/Prune</td>\n",
       "      <td>NaN</td>\n",
       "      <td>NaN</td>\n",
       "      <td>...</td>\n",
       "      <td>Backcountry.com</td>\n",
       "      <td>35%</td>\n",
       "      <td>NaN</td>\n",
       "      <td>Free 2-Day shipping on orders over $50</td>\n",
       "      <td>7</td>\n",
       "      <td>https://www.backcountry.com/asics-gel-fortitud...</td>\n",
       "      <td>6.0,6.5,7.0</td>\n",
       "      <td>https://www.backcountry.com/asics-gel-fortitud...</td>\n",
       "      <td>NaN</td>\n",
       "      <td>NaN</td>\n",
       "    </tr>\n",
       "    <tr>\n",
       "      <th>9997</th>\n",
       "      <td>AWKb5jmLYSSHbkXwyzBA</td>\n",
       "      <td>2018-04-06T16:46:35Z</td>\n",
       "      <td>2018-04-06T21:02:01Z</td>\n",
       "      <td>NaN</td>\n",
       "      <td>Kaanas</td>\n",
       "      <td>Women's Footwear,Women's Casual Boots &amp; Shoes,...</td>\n",
       "      <td>Shoes</td>\n",
       "      <td>Mauve</td>\n",
       "      <td>NaN</td>\n",
       "      <td>NaN</td>\n",
       "      <td>...</td>\n",
       "      <td>Backcountry.com</td>\n",
       "      <td>50%</td>\n",
       "      <td>NaN</td>\n",
       "      <td>Free 2-Day shipping on orders over $50</td>\n",
       "      <td>11</td>\n",
       "      <td>https://www.backcountry.com/kaanas-mesa-hardwa...</td>\n",
       "      <td>6.0,7.0,8.0,9.0,10.0,11.0</td>\n",
       "      <td>https://www.backcountry.com/kaanas-mesa-hardwa...</td>\n",
       "      <td>NaN</td>\n",
       "      <td>NaN</td>\n",
       "    </tr>\n",
       "    <tr>\n",
       "      <th>9998</th>\n",
       "      <td>AWKcEIInYSSHbkXwy0SA</td>\n",
       "      <td>2018-04-06T17:33:30Z</td>\n",
       "      <td>2018-04-06T21:01:53Z</td>\n",
       "      <td>NaN</td>\n",
       "      <td>Nike</td>\n",
       "      <td>Women's Footwear,Women's Running Shoes,Women's...</td>\n",
       "      <td>Shoes</td>\n",
       "      <td>Armory Blue/Armory Navy-Cirrus Blue</td>\n",
       "      <td>NaN</td>\n",
       "      <td>NaN</td>\n",
       "      <td>...</td>\n",
       "      <td>Backcountry.com</td>\n",
       "      <td>25%</td>\n",
       "      <td>NaN</td>\n",
       "      <td>Free 2-Day shipping on orders over $50</td>\n",
       "      <td>6.5</td>\n",
       "      <td>https://www.backcountry.com/nike-air-zoom-stru...</td>\n",
       "      <td>6.0,6.5,7.0,7.5,8.0,8.5,9.0</td>\n",
       "      <td>https://www.backcountry.com/nike-air-zoom-stru...</td>\n",
       "      <td>NaN</td>\n",
       "      <td>9 oz</td>\n",
       "    </tr>\n",
       "    <tr>\n",
       "      <th>9999</th>\n",
       "      <td>AWKb6PiKYSSHbkXwyzP-</td>\n",
       "      <td>2018-04-06T16:45:52Z</td>\n",
       "      <td>2018-04-06T21:01:50Z</td>\n",
       "      <td>NaN</td>\n",
       "      <td>OTZShoes</td>\n",
       "      <td>Women's Footwear,Women's Casual Boots &amp; Shoes,...</td>\n",
       "      <td>Shoes</td>\n",
       "      <td>Black</td>\n",
       "      <td>NaN</td>\n",
       "      <td>NaN</td>\n",
       "      <td>...</td>\n",
       "      <td>Backcountry.com</td>\n",
       "      <td>50%</td>\n",
       "      <td>NaN</td>\n",
       "      <td>Free 2-Day shipping on orders over $50</td>\n",
       "      <td>40</td>\n",
       "      <td>https://www.backcountry.com/otzshoes-espadrill...</td>\n",
       "      <td>36.0,37.0,38.0,39.0,40.0,41.0,42.0</td>\n",
       "      <td>https://www.backcountry.com/otzshoes-espadrill...</td>\n",
       "      <td>NaN</td>\n",
       "      <td>NaN</td>\n",
       "    </tr>\n",
       "  </tbody>\n",
       "</table>\n",
       "<p>10000 rows × 34 columns</p>\n",
       "</div>"
      ],
      "text/plain": [
       "                        id             dateAdded           dateUpdated asins  \\\n",
       "0     AVpfEf_hLJeJML431ueH  2015-05-04T12:13:08Z  2018-01-29T04:38:43Z   NaN   \n",
       "1     AVpi74XfLJeJML43qZAc  2017-01-27T01:23:39Z  2018-01-03T05:21:54Z   NaN   \n",
       "2     AVpi74XfLJeJML43qZAc  2017-01-27T01:23:39Z  2018-01-03T05:21:54Z   NaN   \n",
       "3     AVpjXyCc1cnluZ0-V-Gj  2017-01-27T01:25:56Z  2018-01-04T11:52:35Z   NaN   \n",
       "4     AVphGKLPilAPnD_x1Nrm  2017-01-27T01:25:56Z  2018-01-18T03:55:18Z   NaN   \n",
       "...                    ...                   ...                   ...   ...   \n",
       "9995  AWKcCm-RHh53nbDRIh1_  2018-04-06T17:33:30Z  2018-04-06T21:02:04Z   NaN   \n",
       "9996  AWKcEq-dHh53nbDRIiES  2018-04-06T17:33:29Z  2018-04-06T21:02:04Z   NaN   \n",
       "9997  AWKb5jmLYSSHbkXwyzBA  2018-04-06T16:46:35Z  2018-04-06T21:02:01Z   NaN   \n",
       "9998  AWKcEIInYSSHbkXwy0SA  2018-04-06T17:33:30Z  2018-04-06T21:01:53Z   NaN   \n",
       "9999  AWKb6PiKYSSHbkXwyzP-  2018-04-06T16:45:52Z  2018-04-06T21:01:50Z   NaN   \n",
       "\n",
       "            brand                                         categories  \\\n",
       "0     Naturalizer  Clothing,Shoes,Women's Shoes,All Women's Shoes...   \n",
       "1        MUK LUKS  Clothing,Shoes,Women's Shoes,Women's Casual Sh...   \n",
       "2        MUK LUKS  Clothing,Shoes,Women's Shoes,Women's Casual Sh...   \n",
       "3        MUK LUKS  Clothing,Shoes,Women's Shoes,All Women's Shoes...   \n",
       "4        MUK LUKS  Clothing,Shoes,Women's Shoes,All Women's Shoes...   \n",
       "...           ...                                                ...   \n",
       "9995        Asics  Women's Footwear,Women's Running Shoes,Women's...   \n",
       "9996        Asics  Women's Footwear,Women's Running Shoes,Women's...   \n",
       "9997       Kaanas  Women's Footwear,Women's Casual Boots & Shoes,...   \n",
       "9998         Nike  Women's Footwear,Women's Running Shoes,Women's...   \n",
       "9999     OTZShoes  Women's Footwear,Women's Casual Boots & Shoes,...   \n",
       "\n",
       "     primaryCategories                               colors  \\\n",
       "0                Shoes       Silver,Cream Watercolor Floral   \n",
       "1                Shoes                                 Grey   \n",
       "2                Shoes                                 Grey   \n",
       "3          Shoes,Shoes                                Black   \n",
       "4                Shoes                                 Grey   \n",
       "...                ...                                  ...   \n",
       "9995             Shoes                Silver/Pistachio/Pink   \n",
       "9996             Shoes             Indigo Blue/Silver/Prune   \n",
       "9997             Shoes                                Mauve   \n",
       "9998             Shoes  Armory Blue/Armory Navy-Cirrus Blue   \n",
       "9999             Shoes                                Black   \n",
       "\n",
       "                     dimension           ean  ...   prices.merchant  \\\n",
       "0                          NaN           NaN  ...     Overstock.com   \n",
       "1                          NaN  3.397705e+10  ...       Walmart.com   \n",
       "2                          NaN  3.397705e+10  ...  Slippers Dot Com   \n",
       "3     6.0 in x 6.0 in x 1.0 in  3.397705e+10  ...  Slippers Dot Com   \n",
       "4     6.0 in x 6.0 in x 1.0 in  3.397705e+10  ...       Walmart.com   \n",
       "...                        ...           ...  ...               ...   \n",
       "9995                       NaN           NaN  ...   Backcountry.com   \n",
       "9996                       NaN           NaN  ...   Backcountry.com   \n",
       "9997                       NaN           NaN  ...   Backcountry.com   \n",
       "9998                       NaN           NaN  ...   Backcountry.com   \n",
       "9999                       NaN           NaN  ...   Backcountry.com   \n",
       "\n",
       "     prices.offer prices.returnPolicy                         prices.shipping  \\\n",
       "0             NaN                 NaN                                     NaN   \n",
       "1             NaN                 NaN                                Standard   \n",
       "2             NaN                 NaN                                   Value   \n",
       "3             NaN                 NaN                                   Value   \n",
       "4             NaN                 NaN                               Expedited   \n",
       "...           ...                 ...                                     ...   \n",
       "9995          25%                 NaN  Free 2-Day shipping on orders over $50   \n",
       "9996          35%                 NaN  Free 2-Day shipping on orders over $50   \n",
       "9997          50%                 NaN  Free 2-Day shipping on orders over $50   \n",
       "9998          25%                 NaN  Free 2-Day shipping on orders over $50   \n",
       "9999          50%                 NaN  Free 2-Day shipping on orders over $50   \n",
       "\n",
       "     prices.size                                  prices.sourceURLs  \\\n",
       "0              S  https://www.overstock.com/Clothing-Shoes/Women...   \n",
       "1              6  https://www.walmart.com/ip/MUK-LUKS-Womens-Jan...   \n",
       "2              6  https://www.walmart.com/ip/MUK-LUKS-Womens-Jan...   \n",
       "3              6  https://www.walmart.com/ip/MUK-LUKS-Womens-Daw...   \n",
       "4              6  https://www.walmart.com/ip/MUK-LUKS-Womens-Daw...   \n",
       "...          ...                                                ...   \n",
       "9995         7.5  https://www.backcountry.com/asics-gel-foundati...   \n",
       "9996           7  https://www.backcountry.com/asics-gel-fortitud...   \n",
       "9997          11  https://www.backcountry.com/kaanas-mesa-hardwa...   \n",
       "9998         6.5  https://www.backcountry.com/nike-air-zoom-stru...   \n",
       "9999          40  https://www.backcountry.com/otzshoes-espadrill...   \n",
       "\n",
       "                                                  sizes  \\\n",
       "0     6W,9W,7.5W,12W,8.5M,9N,9M,9.5M,10.5M,10W,8.5W,...   \n",
       "1                                            10,7,6,9,8   \n",
       "2                                            10,7,6,9,8   \n",
       "3                                            10,7,6,9,8   \n",
       "4                                            10,7,6,9,8   \n",
       "...                                                 ...   \n",
       "9995                            6.0,6.5,7.0,7.5,8.0,9.0   \n",
       "9996                                        6.0,6.5,7.0   \n",
       "9997                          6.0,7.0,8.0,9.0,10.0,11.0   \n",
       "9998                        6.0,6.5,7.0,7.5,8.0,8.5,9.0   \n",
       "9999                 36.0,37.0,38.0,39.0,40.0,41.0,42.0   \n",
       "\n",
       "                                             sourceURLs           upc  \\\n",
       "0     https://www.walmart.com/ip/Naturalizer-Danya-W...  017136472311   \n",
       "1     https://www.walmart.com/ip/MUK-LUKS-Womens-Jan...  033977045743   \n",
       "2     https://www.walmart.com/ip/MUK-LUKS-Womens-Jan...  033977045743   \n",
       "3     https://www.walmart.com/ip/MUK-LUKS-Womens-Daw...  033977045903   \n",
       "4     https://www.walmart.com/ip/MUK-LUKS-Womens-Daw...  033977045958   \n",
       "...                                                 ...           ...   \n",
       "9995  https://www.backcountry.com/asics-gel-foundati...           NaN   \n",
       "9996  https://www.backcountry.com/asics-gel-fortitud...           NaN   \n",
       "9997  https://www.backcountry.com/kaanas-mesa-hardwa...           NaN   \n",
       "9998  https://www.backcountry.com/nike-air-zoom-stru...           NaN   \n",
       "9999  https://www.backcountry.com/otzshoes-espadrill...           NaN   \n",
       "\n",
       "           weight  \n",
       "0             NaN  \n",
       "1             NaN  \n",
       "2             NaN  \n",
       "3             NaN  \n",
       "4             NaN  \n",
       "...           ...  \n",
       "9995  1 lb 4.5 oz  \n",
       "9996          NaN  \n",
       "9997          NaN  \n",
       "9998         9 oz  \n",
       "9999          NaN  \n",
       "\n",
       "[10000 rows x 34 columns]"
      ]
     },
     "execution_count": 8,
     "metadata": {},
     "output_type": "execute_result"
    }
   ],
   "source": [
    "df = pd.read_csv('C:\\\\Users\\\\Mirela\\\\PycharmProjects\\\\Womens Shoes\\\\Datafiniti_Womens_Shoes.csv')\n",
    "df"
   ]
  },
  {
   "cell_type": "code",
   "execution_count": 9,
   "id": "ca8fd612",
   "metadata": {},
   "outputs": [
    {
     "data": {
      "text/plain": [
       "pandas.core.frame.DataFrame"
      ]
     },
     "execution_count": 9,
     "metadata": {},
     "output_type": "execute_result"
    }
   ],
   "source": [
    "type(df)"
   ]
  },
  {
   "cell_type": "code",
   "execution_count": 10,
   "id": "bc14d214",
   "metadata": {
    "scrolled": true
   },
   "outputs": [
    {
     "name": "stdout",
     "output_type": "stream",
     "text": [
      "<class 'pandas.core.frame.DataFrame'>\n",
      "RangeIndex: 10000 entries, 0 to 9999\n",
      "Data columns (total 34 columns):\n",
      " #   Column               Non-Null Count  Dtype  \n",
      "---  ------               --------------  -----  \n",
      " 0   id                   10000 non-null  object \n",
      " 1   dateAdded            10000 non-null  object \n",
      " 2   dateUpdated          10000 non-null  object \n",
      " 3   asins                3 non-null      object \n",
      " 4   brand                10000 non-null  object \n",
      " 5   categories           10000 non-null  object \n",
      " 6   primaryCategories    10000 non-null  object \n",
      " 7   colors               2631 non-null   object \n",
      " 8   dimension            117 non-null    object \n",
      " 9   ean                  671 non-null    float64\n",
      " 10  imageURLs            10000 non-null  object \n",
      " 11  keys                 10000 non-null  object \n",
      " 12  manufacturer         527 non-null    object \n",
      " 13  manufacturerNumber   2482 non-null   object \n",
      " 14  name                 10000 non-null  object \n",
      " 15  prices.amountMax     10000 non-null  float64\n",
      " 16  prices.amountMin     10000 non-null  float64\n",
      " 17  prices.availability  434 non-null    object \n",
      " 18  prices.color         10000 non-null  object \n",
      " 19  prices.condition     438 non-null    object \n",
      " 20  prices.currency      10000 non-null  object \n",
      " 21  prices.dateAdded     9223 non-null   object \n",
      " 22  prices.dateSeen      10000 non-null  object \n",
      " 23  prices.isSale        10000 non-null  bool   \n",
      " 24  prices.merchant      435 non-null    object \n",
      " 25  prices.offer         121 non-null    object \n",
      " 26  prices.returnPolicy  0 non-null      float64\n",
      " 27  prices.shipping      412 non-null    object \n",
      " 28  prices.size          10000 non-null  object \n",
      " 29  prices.sourceURLs    10000 non-null  object \n",
      " 30  sizes                10000 non-null  object \n",
      " 31  sourceURLs           10000 non-null  object \n",
      " 32  upc                  9640 non-null   object \n",
      " 33  weight               299 non-null    object \n",
      "dtypes: bool(1), float64(4), object(29)\n",
      "memory usage: 2.5+ MB\n"
     ]
    }
   ],
   "source": [
    "df.info()"
   ]
  },
  {
   "cell_type": "code",
   "execution_count": 11,
   "id": "e0da783a",
   "metadata": {},
   "outputs": [],
   "source": [
    "#Remove columns that I will not use in this analysis\n",
    "df = df.drop(['asins', 'ean','prices.sourceURLs','upc','dimension'], axis=1)\n"
   ]
  },
  {
   "cell_type": "code",
   "execution_count": 12,
   "id": "b3f1ce91",
   "metadata": {},
   "outputs": [
    {
     "data": {
      "text/plain": [
       "(10000, 29)"
      ]
     },
     "execution_count": 12,
     "metadata": {},
     "output_type": "execute_result"
    }
   ],
   "source": [
    "#Dataframe new number of rows and columns  after drop function\n",
    "df.shape"
   ]
  },
  {
   "cell_type": "code",
   "execution_count": 45,
   "id": "beeacd53",
   "metadata": {},
   "outputs": [],
   "source": [
    "# Rename column names\n",
    "df.rename(columns={'prices.amountMax': 'amount_max'}, inplace=True)\n",
    "df.rename(columns={'prices.amountMin': 'amountMin'}, inplace=True)\n",
    "df.rename(columns={'prices.availability': 'availability'}, inplace=True)\n",
    "df.rename(columns={'prices.color': 'color'}, inplace=True)\n",
    "df.rename(columns={'prices.condition': 'condition'}, inplace=True)\n",
    "df.rename(columns={'prices.currency': 'currency'}, inplace=True)\n",
    "df.rename(columns={'prices.returnPolicy': 'returnPolicy'}, inplace=True)\n",
    "df.rename(columns={'prices.size': 'size'}, inplace=True)\n"
   ]
  },
  {
   "cell_type": "code",
   "execution_count": 44,
   "id": "0dbcf645",
   "metadata": {},
   "outputs": [
    {
     "data": {
      "text/plain": [
       "color                         \n",
       "Black                             1960\n",
       "Gray                               737\n",
       "Taupe                              557\n",
       "Navy                               535\n",
       "Brown                              301\n",
       "                                  ... \n",
       "Brown Tweed                          1\n",
       "Red Ochre                            1\n",
       "Insignia Blue/Silver/Rouge Red       1\n",
       "Reflecting/Mallard Blue              1\n",
       "Navy Red                             1\n",
       "Length: 547, dtype: int64"
      ]
     },
     "execution_count": 44,
     "metadata": {},
     "output_type": "execute_result"
    }
   ],
   "source": [
    "df[['color']].value_counts()\n"
   ]
  },
  {
   "cell_type": "code",
   "execution_count": 15,
   "id": "39056447",
   "metadata": {},
   "outputs": [],
   "source": [
    "# 547 colors are available"
   ]
  },
  {
   "cell_type": "code",
   "execution_count": 16,
   "id": "69a4ff0e",
   "metadata": {},
   "outputs": [],
   "source": [
    "Black =df[df['color'] == 'Black']\n",
    "Grey =df[df['color'] == 'Gray']\n",
    "Taupe =df[df['color'] == 'Taupe']\n",
    "Navy =df[df['color'] == 'Navy']"
   ]
  },
  {
   "cell_type": "code",
   "execution_count": 17,
   "id": "a258ae54",
   "metadata": {},
   "outputs": [
    {
     "data": {
      "text/plain": [
       "journee collection                492\n",
       "lifestride                        329\n",
       "style charles by charles david    147\n",
       "a2 by aerosoles                   108\n",
       "so                                 97\n",
       "                                 ... \n",
       "fila                                1\n",
       "Vans                                1\n",
       "vans                                1\n",
       "Mo Mo                               1\n",
       "Altra                               1\n",
       "Name: brand, Length: 66, dtype: int64"
      ]
     },
     "execution_count": 17,
     "metadata": {},
     "output_type": "execute_result"
    }
   ],
   "source": [
    "#Black\n",
    "df['brand'][df['color'] == 'Black'].value_counts()"
   ]
  },
  {
   "cell_type": "code",
   "execution_count": 18,
   "id": "fd23954f",
   "metadata": {},
   "outputs": [
    {
     "data": {
      "image/png": "[encoded data removed]",
      "text/plain": [
       "<Figure size 432x288 with 1 Axes>"
      ]
     },
     "metadata": {
      "needs_background": "light"
     },
     "output_type": "display_data"
    }
   ],
   "source": [
    "import matplotlib.pyplot as plt\n",
    "#Graph for Black color shoe collection - top 10 list\n",
    "Black['brand'].value_counts()[:10].plot(kind='barh')\n",
    "plt.title('Black color shoes data', fontsize = 25)\n",
    "plt.xlabel('Count', fontsize = 10)\n",
    "plt.ylabel('Brands', fontsize = 10)\n",
    "plt.show()"
   ]
  },
  {
   "cell_type": "code",
   "execution_count": 19,
   "id": "2ba5e484",
   "metadata": {},
   "outputs": [
    {
     "data": {
      "text/plain": [
       "journee collection        411\n",
       "so                         61\n",
       "croft barrow               39\n",
       "new balance                38\n",
       "lifestride                 38\n",
       "nike                       27\n",
       "easy street                24\n",
       "skechers                   23\n",
       "Brinley Co. Collection     12\n",
       "clarks                     11\n",
       "sonoma goods for life       9\n",
       "a2 by aerosoles             5\n",
       "keds                        5\n",
       "koolaburra by ugg           4\n",
       "ryka                        4\n",
       "under armour                4\n",
       "spring step                 3\n",
       "apt. 9                      3\n",
       "adidas                      3\n",
       "vans                        2\n",
       "rampage                     2\n",
       "Altra                       2\n",
       "unionbay                    2\n",
       "Silver Lilly                1\n",
       "qupid                       1\n",
       "lc lauren conrad            1\n",
       "eastland                    1\n",
       "Lugz                        1\n",
       "Name: brand, dtype: int64"
      ]
     },
     "execution_count": 19,
     "metadata": {},
     "output_type": "execute_result"
    }
   ],
   "source": [
    "#Gray\n",
    "df['brand'][df['color'] == 'Gray'].value_counts()"
   ]
  },
  {
   "cell_type": "code",
   "execution_count": 20,
   "id": "c445826d",
   "metadata": {},
   "outputs": [
    {
     "data": {
      "image/png": "[encoded data removed]",
      "text/plain": [
       "<Figure size 432x288 with 1 Axes>"
      ]
     },
     "metadata": {
      "needs_background": "light"
     },
     "output_type": "display_data"
    }
   ],
   "source": [
    "import matplotlib.pyplot as plt\n",
    "#Graph for Grey color shoe collection - top 10 list\n",
    "Grey['brand'].value_counts()[:10].plot(kind='barh')\n",
    "plt.title('Grey color shoes data', fontsize = 25)\n",
    "plt.xlabel('Count', fontsize = 10)\n",
    "plt.ylabel('Brands', fontsize = 10)\n",
    "plt.show()"
   ]
  },
  {
   "cell_type": "code",
   "execution_count": 21,
   "id": "5e2983ef",
   "metadata": {},
   "outputs": [
    {
     "data": {
      "text/plain": [
       "journee collection                286\n",
       "lifestride                        129\n",
       "croft barrow                       31\n",
       "style charles by charles david     15\n",
       "a2 by aerosoles                    13\n",
       "skechers                           13\n",
       "SKECHERS                           12\n",
       "sonoma goods for life              10\n",
       "naturalsoul by naturalizer         10\n",
       "apt. 9                              9\n",
       "candies                             9\n",
       "so                                  8\n",
       "madden nyc                          5\n",
       "kisses by 2 lips too                4\n",
       "Brinley Co.                         1\n",
       "lc lauren conrad                    1\n",
       "2 lips too                          1\n",
       "Name: brand, dtype: int64"
      ]
     },
     "execution_count": 21,
     "metadata": {},
     "output_type": "execute_result"
    }
   ],
   "source": [
    "#Taupe\n",
    "df['brand'][df['color'] == 'Taupe'].value_counts()"
   ]
  },
  {
   "cell_type": "code",
   "execution_count": 22,
   "id": "d073d081",
   "metadata": {},
   "outputs": [
    {
     "data": {
      "image/png": "[encoded data removed]",
      "text/plain": [
       "<Figure size 432x288 with 1 Axes>"
      ]
     },
     "metadata": {
      "needs_background": "light"
     },
     "output_type": "display_data"
    }
   ],
   "source": [
    "import matplotlib.pyplot as plt\n",
    "#Graph for Taupe color shoe collection - top 10 list\n",
    "Taupe['brand'].value_counts()[:10].plot(kind='barh')\n",
    "plt.title('Taupe color shoes data', fontsize = 25)\n",
    "plt.xlabel('Count', fontsize = 10)\n",
    "plt.ylabel('Brands', fontsize = 10)\n",
    "plt.show()"
   ]
  },
  {
   "cell_type": "code",
   "execution_count": 27,
   "id": "19996455",
   "metadata": {},
   "outputs": [
    {
     "data": {
      "text/plain": [
       "lifestride                        105\n",
       "easy street                        71\n",
       "style charles by charles david     54\n",
       "journee collection                 53\n",
       "so                                 44\n",
       "Lifestride                         35\n",
       "candies                            25\n",
       "skechers                           16\n",
       "a2 by aerosoles                    16\n",
       "apt. 9                             16\n",
       "new balance                        12\n",
       "clarks                             10\n",
       "lc lauren conrad                   10\n",
       "Easy Street                         9\n",
       "eastland                            8\n",
       "spring step                         7\n",
       "Merrell                             6\n",
       "sonoma goods for life               6\n",
       "rampage                             5\n",
       "croft barrow                        5\n",
       "Sperry Top-Sider                    4\n",
       "keds                                4\n",
       "madden nyc                          3\n",
       "SKECHERS                            3\n",
       "adidas                              3\n",
       "unionbay                            2\n",
       "MUK LUKS                            1\n",
       "IB Non-Slip                         1\n",
       "seven7                              1\n",
       "Name: brand, dtype: int64"
      ]
     },
     "execution_count": 27,
     "metadata": {},
     "output_type": "execute_result"
    }
   ],
   "source": [
    "#Navy\n",
    "df['brand'][df['color'] == 'Navy'].value_counts()"
   ]
  },
  {
   "cell_type": "code",
   "execution_count": 28,
   "id": "39b35f41",
   "metadata": {},
   "outputs": [
    {
     "data": {
      "image/png": "[encoded data removed]",
      "text/plain": [
       "<Figure size 432x288 with 1 Axes>"
      ]
     },
     "metadata": {
      "needs_background": "light"
     },
     "output_type": "display_data"
    }
   ],
   "source": [
    "import matplotlib.pyplot as plt\n",
    "#Graph for Navy color shoe collection - top 10 list\n",
    "Navy['brand'].value_counts()[:].plot(kind='barh')\n",
    "plt.title('Navy color shoes data', fontsize = 25)\n",
    "plt.xlabel('Count', fontsize = 10)\n",
    "plt.ylabel('Brands', fontsize = 10)\n",
    "plt.show()"
   ]
  },
  {
   "cell_type": "code",
   "execution_count": 29,
   "id": "f526ab06",
   "metadata": {},
   "outputs": [],
   "source": [
    "# Stock availability\n",
    "# \"Displaying values of stock availability\""
   ]
  },
  {
   "cell_type": "code",
   "execution_count": 30,
   "id": "1e61379e",
   "metadata": {},
   "outputs": [
    {
     "name": "stdout",
     "output_type": "stream",
     "text": [
      "[nan 'In Stock' 'Out Of Stock' 'TRUE']\n"
     ]
    }
   ],
   "source": [
    "print(df['availability'].unique())"
   ]
  },
  {
   "cell_type": "code",
   "execution_count": 31,
   "id": "40f4cdd9",
   "metadata": {},
   "outputs": [],
   "source": [
    "# Assuming  0 as non availability of stock i.e, Out of Stock"
   ]
  },
  {
   "cell_type": "code",
   "execution_count": 32,
   "id": "3a777367",
   "metadata": {},
   "outputs": [],
   "source": [
    "df['availability'].replace(['TRUE'], ['In Stock'], inplace=True)\n",
    "df['availability'].replace([0], ['Out Of Stock'], inplace=True)"
   ]
  },
  {
   "cell_type": "code",
   "execution_count": 33,
   "id": "f2d97896",
   "metadata": {},
   "outputs": [
    {
     "data": {
      "text/plain": [
       "Salomon                31\n",
       "Brinley Co.            29\n",
       "SeaVees                26\n",
       "Adidas                 21\n",
       "Altra                  21\n",
       "Brooks                 19\n",
       "Asics                  19\n",
       "Nike                   16\n",
       "Olukai                 14\n",
       "Merrell                13\n",
       "Topo Athletic          10\n",
       "Inov 8                 10\n",
       "Sperry Top-Sider       10\n",
       "Toms                   10\n",
       "Astral                 10\n",
       "New Balance             9\n",
       "Soludos                 9\n",
       "Frye                    8\n",
       "MUK LUKS                8\n",
       "La Sportiva             8\n",
       "Native Shoes            8\n",
       "Splendid                7\n",
       "Lowa                    7\n",
       "Hoka One One            7\n",
       "Birkenstock             6\n",
       "Vans                    6\n",
       "Saucony                 5\n",
       "Adidas Outdoor          5\n",
       "Scarpa                  4\n",
       "Dansko                  4\n",
       "Arc'teryx               3\n",
       "UGG                     3\n",
       "Timberland              3\n",
       "Under Armour            3\n",
       "Seychelles Footwear     2\n",
       "Chaco                   2\n",
       "Free People             2\n",
       "On Footwear             2\n",
       "Mammut                  2\n",
       "KEEN                    2\n",
       "Mo Mo                   2\n",
       "journee collection      2\n",
       "Soft Ones               1\n",
       "Salewa                  1\n",
       "Sloggers                1\n",
       "Kaanas                  1\n",
       "Bogs                    1\n",
       "IB Non-Slip             1\n",
       "Dr. Scholl's            1\n",
       "The North Face          1\n",
       "Victoria K.             1\n",
       "FOREVER YOUNG           1\n",
       "Earth Spirit            1\n",
       "Daniel Green            1\n",
       "Danskin Now             1\n",
       "Unbranded               1\n",
       "OTZShoes                1\n",
       "ELLIE SHOES             1\n",
       "MLB                     1\n",
       "Silver Lilly            1\n",
       "Name: brand, dtype: int64"
      ]
     },
     "execution_count": 33,
     "metadata": {},
     "output_type": "execute_result"
    }
   ],
   "source": [
    "availb = df[df[\"availability\"] == 'In Stock']; \n",
    "availb[\"brand\"].value_counts()"
   ]
  },
  {
   "cell_type": "code",
   "execution_count": 34,
   "id": "e39d7038",
   "metadata": {},
   "outputs": [
    {
     "data": {
      "image/png": "[encoded data removed]",
      "text/plain": [
       "<Figure size 432x288 with 1 Axes>"
      ]
     },
     "metadata": {
      "needs_background": "light"
     },
     "output_type": "display_data"
    }
   ],
   "source": [
    "import matplotlib.pyplot as plt\n",
    "#Graph for Navy color shoe collection - top 10 list\n",
    "df['availability'].value_counts().plot(kind='barh')\n",
    "plt.title('Availability of stock', fontsize = 25)\n",
    "plt.xlabel('Count', fontsize = 10)\n",
    "plt.ylabel('availability', fontsize = 10)\n",
    "plt.show()"
   ]
  },
  {
   "cell_type": "code",
   "execution_count": 35,
   "id": "618b127f",
   "metadata": {},
   "outputs": [],
   "source": [
    "# Brands and Pricing"
   ]
  },
  {
   "cell_type": "code",
   "execution_count": 36,
   "id": "8f980a84",
   "metadata": {},
   "outputs": [
    {
     "data": {
      "text/html": [
       "<div>\n",
       "<style scoped>\n",
       "    .dataframe tbody tr th:only-of-type {\n",
       "        vertical-align: middle;\n",
       "    }\n",
       "\n",
       "    .dataframe tbody tr th {\n",
       "        vertical-align: top;\n",
       "    }\n",
       "\n",
       "    .dataframe thead th {\n",
       "        text-align: right;\n",
       "    }\n",
       "</style>\n",
       "<table border=\"1\" class=\"dataframe\">\n",
       "  <thead>\n",
       "    <tr style=\"text-align: right;\">\n",
       "      <th></th>\n",
       "      <th>amount_max</th>\n",
       "      <th>amountMin</th>\n",
       "      <th>returnPolicy</th>\n",
       "    </tr>\n",
       "  </thead>\n",
       "  <tbody>\n",
       "    <tr>\n",
       "      <th>count</th>\n",
       "      <td>10000.000000</td>\n",
       "      <td>10000.000000</td>\n",
       "      <td>0.0</td>\n",
       "    </tr>\n",
       "    <tr>\n",
       "      <th>mean</th>\n",
       "      <td>69.223544</td>\n",
       "      <td>51.131209</td>\n",
       "      <td>NaN</td>\n",
       "    </tr>\n",
       "    <tr>\n",
       "      <th>std</th>\n",
       "      <td>19.487286</td>\n",
       "      <td>21.267446</td>\n",
       "      <td>NaN</td>\n",
       "    </tr>\n",
       "    <tr>\n",
       "      <th>min</th>\n",
       "      <td>5.870000</td>\n",
       "      <td>4.880000</td>\n",
       "      <td>NaN</td>\n",
       "    </tr>\n",
       "    <tr>\n",
       "      <th>25%</th>\n",
       "      <td>59.990000</td>\n",
       "      <td>37.490000</td>\n",
       "      <td>NaN</td>\n",
       "    </tr>\n",
       "    <tr>\n",
       "      <th>50%</th>\n",
       "      <td>64.990000</td>\n",
       "      <td>49.990000</td>\n",
       "      <td>NaN</td>\n",
       "    </tr>\n",
       "    <tr>\n",
       "      <th>75%</th>\n",
       "      <td>79.990000</td>\n",
       "      <td>59.990000</td>\n",
       "      <td>NaN</td>\n",
       "    </tr>\n",
       "    <tr>\n",
       "      <th>max</th>\n",
       "      <td>359.950000</td>\n",
       "      <td>359.950000</td>\n",
       "      <td>NaN</td>\n",
       "    </tr>\n",
       "  </tbody>\n",
       "</table>\n",
       "</div>"
      ],
      "text/plain": [
       "         amount_max     amountMin  returnPolicy\n",
       "count  10000.000000  10000.000000           0.0\n",
       "mean      69.223544     51.131209           NaN\n",
       "std       19.487286     21.267446           NaN\n",
       "min        5.870000      4.880000           NaN\n",
       "25%       59.990000     37.490000           NaN\n",
       "50%       64.990000     49.990000           NaN\n",
       "75%       79.990000     59.990000           NaN\n",
       "max      359.950000    359.950000           NaN"
      ]
     },
     "execution_count": 36,
     "metadata": {},
     "output_type": "execute_result"
    }
   ],
   "source": [
    "df.describe()"
   ]
  },
  {
   "cell_type": "markdown",
   "id": "c7b0b91d",
   "metadata": {},
   "source": [
    "Pandas describe() is used to view some basic statistical details like percentile, mean, std etc. of a data frame or a series of numeric values."
   ]
  },
  {
   "cell_type": "code",
   "execution_count": 37,
   "id": "a6498361",
   "metadata": {},
   "outputs": [],
   "source": [
    "#Converting strings to upper case\n",
    "df['brand'] = df['brand'].str.upper() \n"
   ]
  },
  {
   "cell_type": "code",
   "execution_count": 38,
   "id": "b36b39e8",
   "metadata": {},
   "outputs": [
    {
     "data": {
      "text/plain": [
       "JOURNEE COLLECTION                2182\n",
       "LIFESTRIDE                        1593\n",
       "A2 BY AEROSOLES                    670\n",
       "EASY STREET                        585\n",
       "STYLE CHARLES BY CHARLES DAVID     478\n",
       "                                  ... \n",
       "DANSKIN NOW                          1\n",
       "VICTORIA K.                          1\n",
       "CARRINI                              1\n",
       "KAANAS                               1\n",
       "NYLA                                 1\n",
       "Name: brand, Length: 116, dtype: int64"
      ]
     },
     "execution_count": 38,
     "metadata": {},
     "output_type": "execute_result"
    }
   ],
   "source": [
    "df.brand.value_counts()"
   ]
  },
  {
   "cell_type": "code",
   "execution_count": 183,
   "id": "d781ec16",
   "metadata": {},
   "outputs": [],
   "source": [
    "# 116 Brands are available"
   ]
  },
  {
   "cell_type": "markdown",
   "id": "caa18f4d",
   "metadata": {},
   "source": [
    "With pandas DataFrame we can explore one column like brand."
   ]
  },
  {
   "cell_type": "code",
   "execution_count": 184,
   "id": "ba084fe4",
   "metadata": {},
   "outputs": [
    {
     "name": "stdout",
     "output_type": "stream",
     "text": [
      "Top 5 most common Brands are listed here \n"
     ]
    },
    {
     "data": {
      "text/plain": [
       "JOURNEE COLLECTION                2182\n",
       "LIFESTRIDE                        1593\n",
       "A2 BY AEROSOLES                    670\n",
       "EASY STREET                        585\n",
       "STYLE CHARLES BY CHARLES DAVID     478\n",
       "Name: brand, dtype: int64"
      ]
     },
     "execution_count": 184,
     "metadata": {},
     "output_type": "execute_result"
    }
   ],
   "source": [
    "print ('Top 5 most common Brands are listed here ')\n",
    "df['brand'].value_counts()[:5] #Top 5 most common Brands "
   ]
  },
  {
   "cell_type": "code",
   "execution_count": 185,
   "id": "1b4b45e0",
   "metadata": {},
   "outputs": [
    {
     "data": {
      "text/plain": [
       "brand\n",
       "RED WING       345.9500\n",
       "LOWA           199.9500\n",
       "FREE PEOPLE    178.0000\n",
       "ARC'TERYX      170.0000\n",
       "SCARPA         169.7000\n",
       "                 ...   \n",
       "DANSKIN NOW     19.7400\n",
       "VICTORIA K.     15.8800\n",
       "FADED GLORY     14.5875\n",
       "SOFT ONES       14.0000\n",
       "UNBRANDED        7.1200\n",
       "Name: amount_max, Length: 116, dtype: float64"
      ]
     },
     "execution_count": 185,
     "metadata": {},
     "output_type": "execute_result"
    }
   ],
   "source": [
    "#Result of average price of each distinct brand\n",
    "average=df.groupby('brand')['amount_max'].mean().sort_values(ascending=False)\n",
    "average"
   ]
  },
  {
   "cell_type": "code",
   "execution_count": 186,
   "id": "4859e969",
   "metadata": {},
   "outputs": [
    {
     "data": {
      "text/plain": [
       "brand\n",
       "RED WING       345.950000\n",
       "LOWA           199.950000\n",
       "FREE PEOPLE    178.000000\n",
       "ARC'TERYX      170.000000\n",
       "SCARPA         169.700000\n",
       "FRYE           165.450000\n",
       "ON FOOTWEAR    159.990000\n",
       "LA SPORTIVA    152.500000\n",
       "MLB            151.240000\n",
       "SPLENDID       150.807143\n",
       "Name: amount_max, dtype: float64"
      ]
     },
     "execution_count": 186,
     "metadata": {},
     "output_type": "execute_result"
    }
   ],
   "source": [
    "#These are the top 10 brands with highest average price\n",
    "brand_average=df.groupby('brand')['amount_max'].mean().sort_values(ascending=False).head(10)\n",
    "brand_average"
   ]
  },
  {
   "cell_type": "code",
   "execution_count": 187,
   "id": "caefe932",
   "metadata": {},
   "outputs": [],
   "source": [
    "# Return Policy"
   ]
  },
  {
   "cell_type": "code",
   "execution_count": 188,
   "id": "9d3fcfd2",
   "metadata": {},
   "outputs": [
    {
     "name": "stdout",
     "output_type": "stream",
     "text": [
      "<class 'pandas.core.frame.DataFrame'>\n",
      "Int64Index: 0 entries\n",
      "Data columns (total 29 columns):\n",
      " #   Column              Non-Null Count  Dtype  \n",
      "---  ------              --------------  -----  \n",
      " 0   id                  0 non-null      object \n",
      " 1   dateAdded           0 non-null      object \n",
      " 2   dateUpdated         0 non-null      object \n",
      " 3   brand               0 non-null      object \n",
      " 4   categories          0 non-null      object \n",
      " 5   primaryCategories   0 non-null      object \n",
      " 6   colors              0 non-null      object \n",
      " 7   imageURLs           0 non-null      object \n",
      " 8   keys                0 non-null      object \n",
      " 9   manufacturer        0 non-null      object \n",
      " 10  manufacturerNumber  0 non-null      object \n",
      " 11  name                0 non-null      object \n",
      " 12  amount_max          0 non-null      float64\n",
      " 13  amountMin           0 non-null      float64\n",
      " 14  availability        0 non-null      object \n",
      " 15  color               0 non-null      object \n",
      " 16  condition           0 non-null      object \n",
      " 17  currency            0 non-null      object \n",
      " 18  prices.dateAdded    0 non-null      object \n",
      " 19  prices.dateSeen     0 non-null      object \n",
      " 20  prices.isSale       0 non-null      bool   \n",
      " 21  prices.merchant     0 non-null      object \n",
      " 22  prices.offer        0 non-null      object \n",
      " 23  returnPolicy        0 non-null      float64\n",
      " 24  prices.shipping     0 non-null      object \n",
      " 25  size                0 non-null      object \n",
      " 26  sizes               0 non-null      object \n",
      " 27  sourceURLs          0 non-null      object \n",
      " 28  weight              0 non-null      object \n",
      "dtypes: bool(1), float64(3), object(25)\n",
      "memory usage: 0.0+ bytes\n"
     ]
    }
   ],
   "source": [
    "import numpy as np # linear algebra\n",
    "df['returnPolicy'].replace(np.nan, 0, inplace=True)  \n",
    "df['returnPolicy'] != 0.0\n",
    "returnPolice = df[df['returnPolicy'] != 0.0]\n",
    "returnPolice.info()"
   ]
  },
  {
   "cell_type": "code",
   "execution_count": 189,
   "id": "9866c811",
   "metadata": {},
   "outputs": [],
   "source": [
    "# There are no return policy on the brands from the data set"
   ]
  },
  {
   "cell_type": "markdown",
   "id": "ba34df87",
   "metadata": {},
   "source": [
    "Conclusion\n",
    "\n",
    "After exploratory data analysis, at the moment I have information about the range of colors for each o brand, the most dominant brand, about average prices, and stock availability\n",
    "Also to note no Return policy avail on any of the brands.\n"
   ]
  }
 ],
 "metadata": {
  "kernelspec": {
   "display_name": "Python 3",
   "language": "python",
   "name": "python3"
  },
  "language_info": {
   "codemirror_mode": {
    "name": "ipython",
    "version": 3
   },
   "file_extension": ".py",
   "mimetype": "text/x-python",
   "name": "python",
   "nbconvert_exporter": "python",
   "pygments_lexer": "ipython3",
   "version": "3.8.8"
  }
 },
 "nbformat": 4,
 "nbformat_minor": 5
}
